{
 "cells": [
  {
   "cell_type": "code",
   "execution_count": 1,
   "metadata": {},
   "outputs": [
    {
     "data": {
      "text/html": [
       "<div>\n",
       "<style scoped>\n",
       "    .dataframe tbody tr th:only-of-type {\n",
       "        vertical-align: middle;\n",
       "    }\n",
       "\n",
       "    .dataframe tbody tr th {\n",
       "        vertical-align: top;\n",
       "    }\n",
       "\n",
       "    .dataframe thead th {\n",
       "        text-align: right;\n",
       "    }\n",
       "</style>\n",
       "<table border=\"1\" class=\"dataframe\">\n",
       "  <thead>\n",
       "    <tr style=\"text-align: right;\">\n",
       "      <th></th>\n",
       "      <th>GEO_TTL</th>\n",
       "      <th>SECTOR</th>\n",
       "      <th>NAICS2017</th>\n",
       "      <th>NAICS2017_TTL</th>\n",
       "      <th>YEAR</th>\n",
       "      <th>FIRM</th>\n",
       "      <th>ESTAB</th>\n",
       "      <th>RCPTOT</th>\n",
       "      <th>PAYANN</th>\n",
       "      <th>PAYQTR1</th>\n",
       "      <th>EMP</th>\n",
       "      <th>RCPTOT_IMP</th>\n",
       "      <th>PAYANN_IMP</th>\n",
       "      <th>EMP_IMP</th>\n",
       "      <th>AVG SALARY(PAYANN/EMP)</th>\n",
       "    </tr>\n",
       "  </thead>\n",
       "  <tbody>\n",
       "    <tr>\n",
       "      <th>0</th>\n",
       "      <td>United States</td>\n",
       "      <td>52</td>\n",
       "      <td>52</td>\n",
       "      <td>Finance and insurance</td>\n",
       "      <td>2017</td>\n",
       "      <td>236950</td>\n",
       "      <td>475780</td>\n",
       "      <td>4340010907</td>\n",
       "      <td>638822867</td>\n",
       "      <td>204635972</td>\n",
       "      <td>6499871</td>\n",
       "      <td>0</td>\n",
       "      <td>0</td>\n",
       "      <td>0</td>\n",
       "      <td>98.28</td>\n",
       "    </tr>\n",
       "    <tr>\n",
       "      <th>1</th>\n",
       "      <td>United States</td>\n",
       "      <td>52</td>\n",
       "      <td>521</td>\n",
       "      <td>Monetary authorities - central bank</td>\n",
       "      <td>2017</td>\n",
       "      <td>12</td>\n",
       "      <td>57</td>\n",
       "      <td>116892000</td>\n",
       "      <td>2268091</td>\n",
       "      <td>534358</td>\n",
       "      <td>19189</td>\n",
       "      <td>0</td>\n",
       "      <td>0</td>\n",
       "      <td>0</td>\n",
       "      <td>118.20</td>\n",
       "    </tr>\n",
       "    <tr>\n",
       "      <th>2</th>\n",
       "      <td>United States</td>\n",
       "      <td>52</td>\n",
       "      <td>5211</td>\n",
       "      <td>Monetary authorities - central bank</td>\n",
       "      <td>2017</td>\n",
       "      <td>12</td>\n",
       "      <td>57</td>\n",
       "      <td>116892000</td>\n",
       "      <td>2268091</td>\n",
       "      <td>534358</td>\n",
       "      <td>19189</td>\n",
       "      <td>0</td>\n",
       "      <td>0</td>\n",
       "      <td>0</td>\n",
       "      <td>118.20</td>\n",
       "    </tr>\n",
       "    <tr>\n",
       "      <th>3</th>\n",
       "      <td>United States</td>\n",
       "      <td>52</td>\n",
       "      <td>52111</td>\n",
       "      <td>Monetary authorities - central bank</td>\n",
       "      <td>2017</td>\n",
       "      <td>12</td>\n",
       "      <td>57</td>\n",
       "      <td>116892000</td>\n",
       "      <td>2268091</td>\n",
       "      <td>534358</td>\n",
       "      <td>19189</td>\n",
       "      <td>0</td>\n",
       "      <td>0</td>\n",
       "      <td>0</td>\n",
       "      <td>118.20</td>\n",
       "    </tr>\n",
       "    <tr>\n",
       "      <th>4</th>\n",
       "      <td>United States</td>\n",
       "      <td>52</td>\n",
       "      <td>521110</td>\n",
       "      <td>Monetary authorities - central bank</td>\n",
       "      <td>2017</td>\n",
       "      <td>12</td>\n",
       "      <td>57</td>\n",
       "      <td>116892000</td>\n",
       "      <td>2268091</td>\n",
       "      <td>534358</td>\n",
       "      <td>19189</td>\n",
       "      <td>0</td>\n",
       "      <td>0</td>\n",
       "      <td>0</td>\n",
       "      <td>118.20</td>\n",
       "    </tr>\n",
       "  </tbody>\n",
       "</table>\n",
       "</div>"
      ],
      "text/plain": [
       "         GEO_TTL  SECTOR  NAICS2017                        NAICS2017_TTL  \\\n",
       "0  United States      52         52                Finance and insurance   \n",
       "1  United States      52        521  Monetary authorities - central bank   \n",
       "2  United States      52       5211  Monetary authorities - central bank   \n",
       "3  United States      52      52111  Monetary authorities - central bank   \n",
       "4  United States      52     521110  Monetary authorities - central bank   \n",
       "\n",
       "   YEAR    FIRM   ESTAB      RCPTOT     PAYANN    PAYQTR1      EMP  \\\n",
       "0  2017  236950  475780  4340010907  638822867  204635972  6499871   \n",
       "1  2017      12      57   116892000    2268091     534358    19189   \n",
       "2  2017      12      57   116892000    2268091     534358    19189   \n",
       "3  2017      12      57   116892000    2268091     534358    19189   \n",
       "4  2017      12      57   116892000    2268091     534358    19189   \n",
       "\n",
       "   RCPTOT_IMP  PAYANN_IMP  EMP_IMP  AVG SALARY(PAYANN/EMP)  \n",
       "0           0           0        0                   98.28  \n",
       "1           0           0        0                  118.20  \n",
       "2           0           0        0                  118.20  \n",
       "3           0           0        0                  118.20  \n",
       "4           0           0        0                  118.20  "
      ]
     },
     "execution_count": 1,
     "metadata": {},
     "output_type": "execute_result"
    }
   ],
   "source": [
    "import pandas as pd\n",
    "import seaborn as sns\n",
    "df = pd.read_csv('Finance_Insurance_Summary_Stats.csv')\n",
    "df.head()"
   ]
  },
  {
   "cell_type": "code",
   "execution_count": 2,
   "metadata": {},
   "outputs": [
    {
     "data": {
      "text/plain": [
       "5221309"
      ]
     },
     "execution_count": 2,
     "metadata": {},
     "output_type": "execute_result"
    }
   ],
   "source": [
    "df.NAICS2017.max()"
   ]
  },
  {
   "cell_type": "code",
   "execution_count": 3,
   "metadata": {},
   "outputs": [
    {
     "data": {
      "text/plain": [
       "array([], dtype=object)"
      ]
     },
     "execution_count": 3,
     "metadata": {},
     "output_type": "execute_result"
    }
   ],
   "source": [
    "df.NAICS2017_TTL[(df.NAICS2017 >= 10000000) & (df.NAICS2017 <= 99999999)].unique()"
   ]
  },
  {
   "cell_type": "code",
   "execution_count": 4,
   "metadata": {
    "scrolled": false
   },
   "outputs": [
    {
     "data": {
      "text/plain": [
       "array(['National commercial banks (banking)',\n",
       "       'State commercial banks (banking)',\n",
       "       'Savings institutions, federally chartered',\n",
       "       'Credit unions, federally chartered',\n",
       "       'Credit unions, not federally chartered',\n",
       "       'Savings institutions, not federally chartered'], dtype=object)"
      ]
     },
     "execution_count": 4,
     "metadata": {},
     "output_type": "execute_result"
    }
   ],
   "source": [
    "#7\n",
    "df.NAICS2017_TTL[(df.NAICS2017 >= 1000000) & (df.NAICS2017 <= 9999999)].unique()"
   ]
  },
  {
   "cell_type": "code",
   "execution_count": 5,
   "metadata": {},
   "outputs": [
    {
     "data": {
      "text/plain": [
       "array(['Monetary authorities - central bank', 'Commercial banking',\n",
       "       'Credit unions', 'Credit card issuing', 'Sales financing',\n",
       "       'Consumer lending', 'Real estate credit',\n",
       "       'International trade financing',\n",
       "       'Mortgage and nonmortgage loan brokers',\n",
       "       'Financial transactions processing, reserve, and clearinghouse activities',\n",
       "       'Other activities related to credit intermediation',\n",
       "       'Investment banking and securities dealing',\n",
       "       'Securities brokerage', 'Commodity contracts dealing',\n",
       "       'Commodity contracts brokerage',\n",
       "       'Securities and commodity exchanges',\n",
       "       'Miscellaneous intermediation', 'Portfolio management',\n",
       "       'Investment advice', 'Trust, fiduciary, and custody activities',\n",
       "       'Miscellaneous financial investment activities',\n",
       "       'Direct life insurance carriers',\n",
       "       'Direct health and medical insurance carriers',\n",
       "       'Direct property and casualty insurance carriers',\n",
       "       'Direct title insurance carriers',\n",
       "       'Other direct insurance (except life, health, and medical) carriers',\n",
       "       'Reinsurance carriers', 'Insurance agencies and brokerages',\n",
       "       'Claims adjusting',\n",
       "       'Third party administration of insurance and pension funds',\n",
       "       'All other insurance related activities', 'Savings institutions',\n",
       "       'All other nondepository credit intermediation'], dtype=object)"
      ]
     },
     "execution_count": 5,
     "metadata": {},
     "output_type": "execute_result"
    }
   ],
   "source": [
    "#6\n",
    "df_layer6 = df[(df.NAICS2017 >= 100000) & (df.NAICS2017 <= 999999)]\n",
    "df.NAICS2017_TTL[(df.NAICS2017 >= 100000) & (df.NAICS2017 <= 999999)].unique()"
   ]
  },
  {
   "cell_type": "code",
   "execution_count": 6,
   "metadata": {},
   "outputs": [
    {
     "data": {
      "text/plain": [
       "array(['Monetary authorities - central bank', 'Commercial banking',\n",
       "       'Credit unions', 'Credit card issuing', 'Sales financing',\n",
       "       'Other nondepository credit intermediation',\n",
       "       'Mortgage and nonmortgage loan brokers',\n",
       "       'Financial transactions processing, reserve, and clearinghouse activities',\n",
       "       'Other activities related to credit intermediation',\n",
       "       'Investment banking and securities dealing',\n",
       "       'Securities brokerage', 'Commodity contracts dealing',\n",
       "       'Commodity contracts brokerage',\n",
       "       'Securities and commodity exchanges',\n",
       "       'Miscellaneous intermediation', 'Portfolio management',\n",
       "       'Investment advice', 'All other financial investment activities',\n",
       "       'Direct life, health, and medical insurance carriers',\n",
       "       'Direct insurance (except life, health, and medical) carriers',\n",
       "       'Reinsurance carriers', 'Insurance agencies and brokerages',\n",
       "       'Other insurance related activities', 'Savings institutions'],\n",
       "      dtype=object)"
      ]
     },
     "execution_count": 6,
     "metadata": {},
     "output_type": "execute_result"
    }
   ],
   "source": [
    "#5\n",
    "df.NAICS2017_TTL[(df.NAICS2017 >= 10000) & (df.NAICS2017 <= 99999)].unique()"
   ]
  },
  {
   "cell_type": "code",
   "execution_count": 7,
   "metadata": {},
   "outputs": [
    {
     "data": {
      "text/plain": [
       "array(['Monetary authorities - central bank',\n",
       "       'Depository credit intermediation',\n",
       "       'Nondepository credit intermediation',\n",
       "       'Activities related to credit intermediation',\n",
       "       'Securities and commodity contracts intermediation and brokerage',\n",
       "       'Securities and commodity exchanges',\n",
       "       'Other financial investment activities', 'Insurance carriers',\n",
       "       'Agencies, brokerages, and other insurance related activities'],\n",
       "      dtype=object)"
      ]
     },
     "execution_count": 7,
     "metadata": {},
     "output_type": "execute_result"
    }
   ],
   "source": [
    "#4\n",
    "df.NAICS2017_TTL[(df.NAICS2017 >= 1000) & (df.NAICS2017 <= 9999)].unique()"
   ]
  },
  {
   "cell_type": "code",
   "execution_count": 8,
   "metadata": {},
   "outputs": [
    {
     "data": {
      "text/plain": [
       "array(['Monetary authorities - central bank',\n",
       "       'Credit intermediation and related activities',\n",
       "       'Securities, commodity contracts, and other financial investments and related activities',\n",
       "       'Insurance carriers and related activities'], dtype=object)"
      ]
     },
     "execution_count": 8,
     "metadata": {},
     "output_type": "execute_result"
    }
   ],
   "source": [
    "#3\n",
    "df.NAICS2017_TTL[(df.NAICS2017 >= 100) & (df.NAICS2017 <= 999)].unique()"
   ]
  },
  {
   "cell_type": "code",
   "execution_count": 9,
   "metadata": {},
   "outputs": [
    {
     "data": {
      "text/plain": [
       "array(['Finance and insurance'], dtype=object)"
      ]
     },
     "execution_count": 9,
     "metadata": {},
     "output_type": "execute_result"
    }
   ],
   "source": [
    "#2\n",
    "df.NAICS2017_TTL[(df.NAICS2017 >= 10) & (df.NAICS2017 <= 99)].unique()"
   ]
  },
  {
   "cell_type": "code",
   "execution_count": null,
   "metadata": {},
   "outputs": [],
   "source": []
  },
  {
   "cell_type": "code",
   "execution_count": null,
   "metadata": {},
   "outputs": [],
   "source": []
  },
  {
   "cell_type": "code",
   "execution_count": 10,
   "metadata": {},
   "outputs": [
    {
     "data": {
      "text/plain": [
       "3692465"
      ]
     },
     "execution_count": 10,
     "metadata": {},
     "output_type": "execute_result"
    }
   ],
   "source": [
    "#7\n",
    "df.EMP[(df.NAICS2017 >= 1000000) & (df.NAICS2017 <= 9999999)].sum()"
   ]
  },
  {
   "cell_type": "code",
   "execution_count": 11,
   "metadata": {},
   "outputs": [
    {
     "data": {
      "text/plain": [
       "12231221"
      ]
     },
     "execution_count": 11,
     "metadata": {},
     "output_type": "execute_result"
    }
   ],
   "source": [
    "#6\n",
    "df.EMP[(df.NAICS2017 >= 100000) & (df.NAICS2017 <= 999999)].sum()"
   ]
  },
  {
   "cell_type": "code",
   "execution_count": 12,
   "metadata": {},
   "outputs": [
    {
     "data": {
      "text/plain": [
       "11976317"
      ]
     },
     "execution_count": 12,
     "metadata": {},
     "output_type": "execute_result"
    }
   ],
   "source": [
    "#5\n",
    "df.EMP[(df.NAICS2017 >= 10000) & (df.NAICS2017 <= 99999)].sum()"
   ]
  },
  {
   "cell_type": "code",
   "execution_count": 13,
   "metadata": {},
   "outputs": [
    {
     "data": {
      "text/plain": [
       "12594406"
      ]
     },
     "execution_count": 13,
     "metadata": {},
     "output_type": "execute_result"
    }
   ],
   "source": [
    "#4\n",
    "df.EMP[(df.NAICS2017 >= 1000) & (df.NAICS2017 <= 9999)].sum()"
   ]
  },
  {
   "cell_type": "code",
   "execution_count": 14,
   "metadata": {},
   "outputs": [
    {
     "data": {
      "text/plain": [
       "12887774"
      ]
     },
     "execution_count": 14,
     "metadata": {},
     "output_type": "execute_result"
    }
   ],
   "source": [
    "#3\n",
    "df.EMP[(df.NAICS2017 >= 100) & (df.NAICS2017 <= 999)].sum()"
   ]
  },
  {
   "cell_type": "code",
   "execution_count": 15,
   "metadata": {
    "scrolled": true
   },
   "outputs": [
    {
     "data": {
      "text/plain": [
       "12999742"
      ]
     },
     "execution_count": 15,
     "metadata": {},
     "output_type": "execute_result"
    }
   ],
   "source": [
    "#2\n",
    "df.EMP[(df.NAICS2017 >= 10) & (df.NAICS2017 <= 99)].sum()"
   ]
  },
  {
   "cell_type": "code",
   "execution_count": 16,
   "metadata": {},
   "outputs": [
    {
     "data": {
      "text/plain": [
       "array([2, 3, 4, 5, 6, 7], dtype=int64)"
      ]
     },
     "execution_count": 16,
     "metadata": {},
     "output_type": "execute_result"
    }
   ],
   "source": [
    "df['layer'] = df.NAICS2017.apply(lambda x: 7 if x>=1000000 and x<=9999999 else 6 if x>=100000 and x<=999999 else 5 if x>=10000 and x<=99999 else 4 if x>=1000 and x<=9999 else 3 if x>=100 and x<=999 else 2 if x>=10 and x<=99 else 0)\n",
    "df.layer.unique()"
   ]
  },
  {
   "cell_type": "code",
   "execution_count": 17,
   "metadata": {
    "scrolled": true
   },
   "outputs": [
    {
     "data": {
      "text/html": [
       "<div>\n",
       "<style scoped>\n",
       "    .dataframe tbody tr th:only-of-type {\n",
       "        vertical-align: middle;\n",
       "    }\n",
       "\n",
       "    .dataframe tbody tr th {\n",
       "        vertical-align: top;\n",
       "    }\n",
       "\n",
       "    .dataframe thead th {\n",
       "        text-align: right;\n",
       "    }\n",
       "</style>\n",
       "<table border=\"1\" class=\"dataframe\">\n",
       "  <thead>\n",
       "    <tr style=\"text-align: right;\">\n",
       "      <th></th>\n",
       "      <th>GEO_TTL</th>\n",
       "      <th>SECTOR</th>\n",
       "      <th>NAICS2017</th>\n",
       "      <th>NAICS2017_TTL</th>\n",
       "      <th>YEAR</th>\n",
       "      <th>FIRM</th>\n",
       "      <th>ESTAB</th>\n",
       "      <th>RCPTOT</th>\n",
       "      <th>PAYANN</th>\n",
       "      <th>PAYQTR1</th>\n",
       "      <th>EMP</th>\n",
       "      <th>RCPTOT_IMP</th>\n",
       "      <th>PAYANN_IMP</th>\n",
       "      <th>EMP_IMP</th>\n",
       "      <th>AVG SALARY(PAYANN/EMP)</th>\n",
       "      <th>layer</th>\n",
       "    </tr>\n",
       "  </thead>\n",
       "  <tbody>\n",
       "    <tr>\n",
       "      <th>0</th>\n",
       "      <td>United States</td>\n",
       "      <td>52</td>\n",
       "      <td>52</td>\n",
       "      <td>Finance and insurance</td>\n",
       "      <td>2017</td>\n",
       "      <td>236950</td>\n",
       "      <td>475780</td>\n",
       "      <td>4340010907</td>\n",
       "      <td>638822867</td>\n",
       "      <td>204635972</td>\n",
       "      <td>6499871</td>\n",
       "      <td>0</td>\n",
       "      <td>0</td>\n",
       "      <td>0</td>\n",
       "      <td>98.28</td>\n",
       "      <td>2</td>\n",
       "    </tr>\n",
       "    <tr>\n",
       "      <th>1</th>\n",
       "      <td>United States</td>\n",
       "      <td>52</td>\n",
       "      <td>521</td>\n",
       "      <td>Monetary authorities - central bank</td>\n",
       "      <td>2017</td>\n",
       "      <td>12</td>\n",
       "      <td>57</td>\n",
       "      <td>116892000</td>\n",
       "      <td>2268091</td>\n",
       "      <td>534358</td>\n",
       "      <td>19189</td>\n",
       "      <td>0</td>\n",
       "      <td>0</td>\n",
       "      <td>0</td>\n",
       "      <td>118.20</td>\n",
       "      <td>3</td>\n",
       "    </tr>\n",
       "    <tr>\n",
       "      <th>2</th>\n",
       "      <td>United States</td>\n",
       "      <td>52</td>\n",
       "      <td>5211</td>\n",
       "      <td>Monetary authorities - central bank</td>\n",
       "      <td>2017</td>\n",
       "      <td>12</td>\n",
       "      <td>57</td>\n",
       "      <td>116892000</td>\n",
       "      <td>2268091</td>\n",
       "      <td>534358</td>\n",
       "      <td>19189</td>\n",
       "      <td>0</td>\n",
       "      <td>0</td>\n",
       "      <td>0</td>\n",
       "      <td>118.20</td>\n",
       "      <td>4</td>\n",
       "    </tr>\n",
       "    <tr>\n",
       "      <th>3</th>\n",
       "      <td>United States</td>\n",
       "      <td>52</td>\n",
       "      <td>52111</td>\n",
       "      <td>Monetary authorities - central bank</td>\n",
       "      <td>2017</td>\n",
       "      <td>12</td>\n",
       "      <td>57</td>\n",
       "      <td>116892000</td>\n",
       "      <td>2268091</td>\n",
       "      <td>534358</td>\n",
       "      <td>19189</td>\n",
       "      <td>0</td>\n",
       "      <td>0</td>\n",
       "      <td>0</td>\n",
       "      <td>118.20</td>\n",
       "      <td>5</td>\n",
       "    </tr>\n",
       "    <tr>\n",
       "      <th>4</th>\n",
       "      <td>United States</td>\n",
       "      <td>52</td>\n",
       "      <td>521110</td>\n",
       "      <td>Monetary authorities - central bank</td>\n",
       "      <td>2017</td>\n",
       "      <td>12</td>\n",
       "      <td>57</td>\n",
       "      <td>116892000</td>\n",
       "      <td>2268091</td>\n",
       "      <td>534358</td>\n",
       "      <td>19189</td>\n",
       "      <td>0</td>\n",
       "      <td>0</td>\n",
       "      <td>0</td>\n",
       "      <td>118.20</td>\n",
       "      <td>6</td>\n",
       "    </tr>\n",
       "  </tbody>\n",
       "</table>\n",
       "</div>"
      ],
      "text/plain": [
       "         GEO_TTL  SECTOR  NAICS2017                        NAICS2017_TTL  \\\n",
       "0  United States      52         52                Finance and insurance   \n",
       "1  United States      52        521  Monetary authorities - central bank   \n",
       "2  United States      52       5211  Monetary authorities - central bank   \n",
       "3  United States      52      52111  Monetary authorities - central bank   \n",
       "4  United States      52     521110  Monetary authorities - central bank   \n",
       "\n",
       "   YEAR    FIRM   ESTAB      RCPTOT     PAYANN    PAYQTR1      EMP  \\\n",
       "0  2017  236950  475780  4340010907  638822867  204635972  6499871   \n",
       "1  2017      12      57   116892000    2268091     534358    19189   \n",
       "2  2017      12      57   116892000    2268091     534358    19189   \n",
       "3  2017      12      57   116892000    2268091     534358    19189   \n",
       "4  2017      12      57   116892000    2268091     534358    19189   \n",
       "\n",
       "   RCPTOT_IMP  PAYANN_IMP  EMP_IMP  AVG SALARY(PAYANN/EMP)  layer  \n",
       "0           0           0        0                   98.28      2  \n",
       "1           0           0        0                  118.20      3  \n",
       "2           0           0        0                  118.20      4  \n",
       "3           0           0        0                  118.20      5  \n",
       "4           0           0        0                  118.20      6  "
      ]
     },
     "execution_count": 17,
     "metadata": {},
     "output_type": "execute_result"
    }
   ],
   "source": [
    "df.head()"
   ]
  },
  {
   "cell_type": "code",
   "execution_count": 18,
   "metadata": {},
   "outputs": [
    {
     "data": {
      "text/html": [
       "<div>\n",
       "<style scoped>\n",
       "    .dataframe tbody tr th:only-of-type {\n",
       "        vertical-align: middle;\n",
       "    }\n",
       "\n",
       "    .dataframe tbody tr th {\n",
       "        vertical-align: top;\n",
       "    }\n",
       "\n",
       "    .dataframe thead th {\n",
       "        text-align: right;\n",
       "    }\n",
       "</style>\n",
       "<table border=\"1\" class=\"dataframe\">\n",
       "  <thead>\n",
       "    <tr style=\"text-align: right;\">\n",
       "      <th></th>\n",
       "      <th>GEO_TTL</th>\n",
       "      <th>SECTOR</th>\n",
       "      <th>NAICS2017</th>\n",
       "      <th>NAICS2017_TTL</th>\n",
       "      <th>YEAR</th>\n",
       "      <th>FIRM</th>\n",
       "      <th>ESTAB</th>\n",
       "      <th>RCPTOT</th>\n",
       "      <th>PAYANN</th>\n",
       "      <th>PAYQTR1</th>\n",
       "      <th>EMP</th>\n",
       "      <th>RCPTOT_IMP</th>\n",
       "      <th>PAYANN_IMP</th>\n",
       "      <th>EMP_IMP</th>\n",
       "      <th>AVG SALARY(PAYANN/EMP)</th>\n",
       "    </tr>\n",
       "  </thead>\n",
       "  <tbody>\n",
       "    <tr>\n",
       "      <th>4</th>\n",
       "      <td>United States</td>\n",
       "      <td>52</td>\n",
       "      <td>521110</td>\n",
       "      <td>Monetary authorities - central bank</td>\n",
       "      <td>2017</td>\n",
       "      <td>12</td>\n",
       "      <td>57</td>\n",
       "      <td>116892000</td>\n",
       "      <td>2268091</td>\n",
       "      <td>534358</td>\n",
       "      <td>19189</td>\n",
       "      <td>0</td>\n",
       "      <td>0</td>\n",
       "      <td>0</td>\n",
       "      <td>118.20</td>\n",
       "    </tr>\n",
       "    <tr>\n",
       "      <th>8</th>\n",
       "      <td>United States</td>\n",
       "      <td>52</td>\n",
       "      <td>522110</td>\n",
       "      <td>Commercial banking</td>\n",
       "      <td>2017</td>\n",
       "      <td>5009</td>\n",
       "      <td>92063</td>\n",
       "      <td>465245474</td>\n",
       "      <td>130408773</td>\n",
       "      <td>41992915</td>\n",
       "      <td>1606404</td>\n",
       "      <td>0</td>\n",
       "      <td>0</td>\n",
       "      <td>0</td>\n",
       "      <td>81.18</td>\n",
       "    </tr>\n",
       "    <tr>\n",
       "      <th>13</th>\n",
       "      <td>United States</td>\n",
       "      <td>52</td>\n",
       "      <td>522130</td>\n",
       "      <td>Credit unions</td>\n",
       "      <td>2017</td>\n",
       "      <td>5320</td>\n",
       "      <td>19312</td>\n",
       "      <td>65100059</td>\n",
       "      <td>15525364</td>\n",
       "      <td>4102315</td>\n",
       "      <td>290249</td>\n",
       "      <td>0</td>\n",
       "      <td>0</td>\n",
       "      <td>0</td>\n",
       "      <td>53.49</td>\n",
       "    </tr>\n",
       "    <tr>\n",
       "      <th>18</th>\n",
       "      <td>United States</td>\n",
       "      <td>52</td>\n",
       "      <td>522210</td>\n",
       "      <td>Credit card issuing</td>\n",
       "      <td>2017</td>\n",
       "      <td>67</td>\n",
       "      <td>658</td>\n",
       "      <td>128445385</td>\n",
       "      <td>5589550</td>\n",
       "      <td>1881103</td>\n",
       "      <td>67681</td>\n",
       "      <td>0</td>\n",
       "      <td>0</td>\n",
       "      <td>0</td>\n",
       "      <td>82.59</td>\n",
       "    </tr>\n",
       "    <tr>\n",
       "      <th>20</th>\n",
       "      <td>United States</td>\n",
       "      <td>52</td>\n",
       "      <td>522220</td>\n",
       "      <td>Sales financing</td>\n",
       "      <td>2017</td>\n",
       "      <td>2376</td>\n",
       "      <td>4194</td>\n",
       "      <td>114879189</td>\n",
       "      <td>8869979</td>\n",
       "      <td>2783756</td>\n",
       "      <td>94656</td>\n",
       "      <td>0</td>\n",
       "      <td>0</td>\n",
       "      <td>0</td>\n",
       "      <td>93.71</td>\n",
       "    </tr>\n",
       "    <tr>\n",
       "      <th>...</th>\n",
       "      <td>...</td>\n",
       "      <td>...</td>\n",
       "      <td>...</td>\n",
       "      <td>...</td>\n",
       "      <td>...</td>\n",
       "      <td>...</td>\n",
       "      <td>...</td>\n",
       "      <td>...</td>\n",
       "      <td>...</td>\n",
       "      <td>...</td>\n",
       "      <td>...</td>\n",
       "      <td>...</td>\n",
       "      <td>...</td>\n",
       "      <td>...</td>\n",
       "      <td>...</td>\n",
       "    </tr>\n",
       "    <tr>\n",
       "      <th>2637</th>\n",
       "      <td>Wyoming</td>\n",
       "      <td>52</td>\n",
       "      <td>524113</td>\n",
       "      <td>Direct life insurance carriers</td>\n",
       "      <td>2017</td>\n",
       "      <td>6</td>\n",
       "      <td>8</td>\n",
       "      <td>0</td>\n",
       "      <td>4719</td>\n",
       "      <td>1118</td>\n",
       "      <td>73</td>\n",
       "      <td>0</td>\n",
       "      <td>0</td>\n",
       "      <td>0</td>\n",
       "      <td>64.64</td>\n",
       "    </tr>\n",
       "    <tr>\n",
       "      <th>2638</th>\n",
       "      <td>Wyoming</td>\n",
       "      <td>52</td>\n",
       "      <td>524114</td>\n",
       "      <td>Direct health and medical insurance carriers</td>\n",
       "      <td>2017</td>\n",
       "      <td>11</td>\n",
       "      <td>23</td>\n",
       "      <td>0</td>\n",
       "      <td>18943</td>\n",
       "      <td>4444</td>\n",
       "      <td>311</td>\n",
       "      <td>0</td>\n",
       "      <td>0</td>\n",
       "      <td>0</td>\n",
       "      <td>60.91</td>\n",
       "    </tr>\n",
       "    <tr>\n",
       "      <th>2640</th>\n",
       "      <td>Wyoming</td>\n",
       "      <td>52</td>\n",
       "      <td>524126</td>\n",
       "      <td>Direct property and casualty insurance carriers</td>\n",
       "      <td>2017</td>\n",
       "      <td>11</td>\n",
       "      <td>19</td>\n",
       "      <td>0</td>\n",
       "      <td>28775</td>\n",
       "      <td>7189</td>\n",
       "      <td>576</td>\n",
       "      <td>0</td>\n",
       "      <td>0</td>\n",
       "      <td>0</td>\n",
       "      <td>49.96</td>\n",
       "    </tr>\n",
       "    <tr>\n",
       "      <th>2643</th>\n",
       "      <td>Wyoming</td>\n",
       "      <td>52</td>\n",
       "      <td>524210</td>\n",
       "      <td>Insurance agencies and brokerages</td>\n",
       "      <td>2017</td>\n",
       "      <td>286</td>\n",
       "      <td>338</td>\n",
       "      <td>118476</td>\n",
       "      <td>46137</td>\n",
       "      <td>10832</td>\n",
       "      <td>1048</td>\n",
       "      <td>0</td>\n",
       "      <td>0</td>\n",
       "      <td>0</td>\n",
       "      <td>44.02</td>\n",
       "    </tr>\n",
       "    <tr>\n",
       "      <th>2645</th>\n",
       "      <td>Wyoming</td>\n",
       "      <td>52</td>\n",
       "      <td>524291</td>\n",
       "      <td>Claims adjusting</td>\n",
       "      <td>2017</td>\n",
       "      <td>12</td>\n",
       "      <td>13</td>\n",
       "      <td>1507</td>\n",
       "      <td>501</td>\n",
       "      <td>66</td>\n",
       "      <td>8</td>\n",
       "      <td>0</td>\n",
       "      <td>0</td>\n",
       "      <td>0</td>\n",
       "      <td>62.62</td>\n",
       "    </tr>\n",
       "  </tbody>\n",
       "</table>\n",
       "<p>1066 rows × 15 columns</p>\n",
       "</div>"
      ],
      "text/plain": [
       "            GEO_TTL  SECTOR  NAICS2017  \\\n",
       "4     United States      52     521110   \n",
       "8     United States      52     522110   \n",
       "13    United States      52     522130   \n",
       "18    United States      52     522210   \n",
       "20    United States      52     522220   \n",
       "...             ...     ...        ...   \n",
       "2637        Wyoming      52     524113   \n",
       "2638        Wyoming      52     524114   \n",
       "2640        Wyoming      52     524126   \n",
       "2643        Wyoming      52     524210   \n",
       "2645        Wyoming      52     524291   \n",
       "\n",
       "                                        NAICS2017_TTL  YEAR  FIRM  ESTAB  \\\n",
       "4                 Monetary authorities - central bank  2017    12     57   \n",
       "8                                  Commercial banking  2017  5009  92063   \n",
       "13                                      Credit unions  2017  5320  19312   \n",
       "18                                Credit card issuing  2017    67    658   \n",
       "20                                    Sales financing  2017  2376   4194   \n",
       "...                                               ...   ...   ...    ...   \n",
       "2637                   Direct life insurance carriers  2017     6      8   \n",
       "2638     Direct health and medical insurance carriers  2017    11     23   \n",
       "2640  Direct property and casualty insurance carriers  2017    11     19   \n",
       "2643                Insurance agencies and brokerages  2017   286    338   \n",
       "2645                                 Claims adjusting  2017    12     13   \n",
       "\n",
       "         RCPTOT     PAYANN   PAYQTR1      EMP  RCPTOT_IMP  PAYANN_IMP  \\\n",
       "4     116892000    2268091    534358    19189           0           0   \n",
       "8     465245474  130408773  41992915  1606404           0           0   \n",
       "13     65100059   15525364   4102315   290249           0           0   \n",
       "18    128445385    5589550   1881103    67681           0           0   \n",
       "20    114879189    8869979   2783756    94656           0           0   \n",
       "...         ...        ...       ...      ...         ...         ...   \n",
       "2637          0       4719      1118       73           0           0   \n",
       "2638          0      18943      4444      311           0           0   \n",
       "2640          0      28775      7189      576           0           0   \n",
       "2643     118476      46137     10832     1048           0           0   \n",
       "2645       1507        501        66        8           0           0   \n",
       "\n",
       "      EMP_IMP  AVG SALARY(PAYANN/EMP)  \n",
       "4           0                  118.20  \n",
       "8           0                   81.18  \n",
       "13          0                   53.49  \n",
       "18          0                   82.59  \n",
       "20          0                   93.71  \n",
       "...       ...                     ...  \n",
       "2637        0                   64.64  \n",
       "2638        0                   60.91  \n",
       "2640        0                   49.96  \n",
       "2643        0                   44.02  \n",
       "2645        0                   62.62  \n",
       "\n",
       "[1066 rows x 15 columns]"
      ]
     },
     "execution_count": 18,
     "metadata": {},
     "output_type": "execute_result"
    }
   ],
   "source": [
    "df_layer6"
   ]
  },
  {
   "cell_type": "code",
   "execution_count": 19,
   "metadata": {},
   "outputs": [],
   "source": [
    "#df_layer6.to_csv('finance_layersix.csv',index=False)"
   ]
  },
  {
   "cell_type": "code",
   "execution_count": 20,
   "metadata": {},
   "outputs": [],
   "source": [
    "#df.to_csv('finance_all_layers.csv',index=False)"
   ]
  },
  {
   "cell_type": "markdown",
   "metadata": {},
   "source": [
    "# #6 Data Bleed"
   ]
  },
  {
   "cell_type": "code",
   "execution_count": 21,
   "metadata": {},
   "outputs": [
    {
     "name": "stderr",
     "output_type": "stream",
     "text": [
      "<ipython-input-21-3846e6260390>:3: SettingWithCopyWarning: \n",
      "A value is trying to be set on a copy of a slice from a DataFrame.\n",
      "Try using .loc[row_indexer,col_indexer] = value instead\n",
      "\n",
      "See the caveats in the documentation: https://pandas.pydata.org/pandas-docs/stable/user_guide/indexing.html#returning-a-view-versus-a-copy\n",
      "  df_4['NAICS2017'] = df_4['NAICS2017'].astype(str)\n",
      "<ipython-input-21-3846e6260390>:4: SettingWithCopyWarning: \n",
      "A value is trying to be set on a copy of a slice from a DataFrame.\n",
      "Try using .loc[row_indexer,col_indexer] = value instead\n",
      "\n",
      "See the caveats in the documentation: https://pandas.pydata.org/pandas-docs/stable/user_guide/indexing.html#returning-a-view-versus-a-copy\n",
      "  df_5['NAICS2017'] = df_5['NAICS2017'].astype(str)\n"
     ]
    }
   ],
   "source": [
    "df_4 = df[(df.layer==4)]\n",
    "df_5 = df[(df.layer==5)]\n",
    "df_4['NAICS2017'] = df_4['NAICS2017'].astype(str)\n",
    "df_5['NAICS2017'] = df_5['NAICS2017'].astype(str)"
   ]
  },
  {
   "cell_type": "code",
   "execution_count": 22,
   "metadata": {
    "scrolled": true
   },
   "outputs": [],
   "source": [
    "layer4 = df_4.groupby('NAICS2017')['EMP'].sum()"
   ]
  },
  {
   "cell_type": "code",
   "execution_count": 23,
   "metadata": {},
   "outputs": [
    {
     "name": "stderr",
     "output_type": "stream",
     "text": [
      "<ipython-input-23-084a2326b7c0>:1: SettingWithCopyWarning: \n",
      "A value is trying to be set on a copy of a slice from a DataFrame.\n",
      "Try using .loc[row_indexer,col_indexer] = value instead\n",
      "\n",
      "See the caveats in the documentation: https://pandas.pydata.org/pandas-docs/stable/user_guide/indexing.html#returning-a-view-versus-a-copy\n",
      "  df_5['matching'] = df_5.NAICS2017.apply(lambda x: x[0:4])\n"
     ]
    },
    {
     "data": {
      "text/plain": [
       "array(['5211', '5221', '5222', '5223', '5231', '5232', '5239', '5241',\n",
       "       '5242'], dtype=object)"
      ]
     },
     "execution_count": 23,
     "metadata": {},
     "output_type": "execute_result"
    }
   ],
   "source": [
    "df_5['matching'] = df_5.NAICS2017.apply(lambda x: x[0:4])\n",
    "df_5.matching.unique()"
   ]
  },
  {
   "cell_type": "code",
   "execution_count": 24,
   "metadata": {
    "scrolled": false
   },
   "outputs": [
    {
     "data": {
      "text/html": [
       "<div>\n",
       "<style scoped>\n",
       "    .dataframe tbody tr th:only-of-type {\n",
       "        vertical-align: middle;\n",
       "    }\n",
       "\n",
       "    .dataframe tbody tr th {\n",
       "        vertical-align: top;\n",
       "    }\n",
       "\n",
       "    .dataframe thead th {\n",
       "        text-align: right;\n",
       "    }\n",
       "</style>\n",
       "<table border=\"1\" class=\"dataframe\">\n",
       "  <thead>\n",
       "    <tr style=\"text-align: right;\">\n",
       "      <th></th>\n",
       "      <th>GEO_TTL</th>\n",
       "      <th>SECTOR</th>\n",
       "      <th>NAICS2017</th>\n",
       "      <th>NAICS2017_TTL</th>\n",
       "      <th>YEAR</th>\n",
       "      <th>FIRM</th>\n",
       "      <th>ESTAB</th>\n",
       "      <th>RCPTOT</th>\n",
       "      <th>PAYANN</th>\n",
       "      <th>PAYQTR1</th>\n",
       "      <th>EMP</th>\n",
       "      <th>RCPTOT_IMP</th>\n",
       "      <th>PAYANN_IMP</th>\n",
       "      <th>EMP_IMP</th>\n",
       "      <th>AVG SALARY(PAYANN/EMP)</th>\n",
       "      <th>layer</th>\n",
       "      <th>matching</th>\n",
       "    </tr>\n",
       "  </thead>\n",
       "  <tbody>\n",
       "    <tr>\n",
       "      <th>3</th>\n",
       "      <td>United States</td>\n",
       "      <td>52</td>\n",
       "      <td>52111</td>\n",
       "      <td>Monetary authorities - central bank</td>\n",
       "      <td>2017</td>\n",
       "      <td>12</td>\n",
       "      <td>57</td>\n",
       "      <td>116892000</td>\n",
       "      <td>2268091</td>\n",
       "      <td>534358</td>\n",
       "      <td>19189</td>\n",
       "      <td>0</td>\n",
       "      <td>0</td>\n",
       "      <td>0</td>\n",
       "      <td>118.20</td>\n",
       "      <td>5</td>\n",
       "      <td>5211</td>\n",
       "    </tr>\n",
       "    <tr>\n",
       "      <th>7</th>\n",
       "      <td>United States</td>\n",
       "      <td>52</td>\n",
       "      <td>52211</td>\n",
       "      <td>Commercial banking</td>\n",
       "      <td>2017</td>\n",
       "      <td>5009</td>\n",
       "      <td>92063</td>\n",
       "      <td>465245474</td>\n",
       "      <td>130408773</td>\n",
       "      <td>41992915</td>\n",
       "      <td>1606404</td>\n",
       "      <td>0</td>\n",
       "      <td>0</td>\n",
       "      <td>0</td>\n",
       "      <td>81.18</td>\n",
       "      <td>5</td>\n",
       "      <td>5221</td>\n",
       "    </tr>\n",
       "    <tr>\n",
       "      <th>12</th>\n",
       "      <td>United States</td>\n",
       "      <td>52</td>\n",
       "      <td>52213</td>\n",
       "      <td>Credit unions</td>\n",
       "      <td>2017</td>\n",
       "      <td>5320</td>\n",
       "      <td>19312</td>\n",
       "      <td>65100059</td>\n",
       "      <td>15525364</td>\n",
       "      <td>4102315</td>\n",
       "      <td>290249</td>\n",
       "      <td>0</td>\n",
       "      <td>0</td>\n",
       "      <td>0</td>\n",
       "      <td>53.49</td>\n",
       "      <td>5</td>\n",
       "      <td>5221</td>\n",
       "    </tr>\n",
       "    <tr>\n",
       "      <th>17</th>\n",
       "      <td>United States</td>\n",
       "      <td>52</td>\n",
       "      <td>52221</td>\n",
       "      <td>Credit card issuing</td>\n",
       "      <td>2017</td>\n",
       "      <td>67</td>\n",
       "      <td>658</td>\n",
       "      <td>128445385</td>\n",
       "      <td>5589550</td>\n",
       "      <td>1881103</td>\n",
       "      <td>67681</td>\n",
       "      <td>0</td>\n",
       "      <td>0</td>\n",
       "      <td>0</td>\n",
       "      <td>82.59</td>\n",
       "      <td>5</td>\n",
       "      <td>5222</td>\n",
       "    </tr>\n",
       "    <tr>\n",
       "      <th>19</th>\n",
       "      <td>United States</td>\n",
       "      <td>52</td>\n",
       "      <td>52222</td>\n",
       "      <td>Sales financing</td>\n",
       "      <td>2017</td>\n",
       "      <td>2376</td>\n",
       "      <td>4194</td>\n",
       "      <td>114879189</td>\n",
       "      <td>8869979</td>\n",
       "      <td>2783756</td>\n",
       "      <td>94656</td>\n",
       "      <td>0</td>\n",
       "      <td>0</td>\n",
       "      <td>0</td>\n",
       "      <td>93.71</td>\n",
       "      <td>5</td>\n",
       "      <td>5222</td>\n",
       "    </tr>\n",
       "  </tbody>\n",
       "</table>\n",
       "</div>"
      ],
      "text/plain": [
       "          GEO_TTL  SECTOR NAICS2017                        NAICS2017_TTL  \\\n",
       "3   United States      52     52111  Monetary authorities - central bank   \n",
       "7   United States      52     52211                   Commercial banking   \n",
       "12  United States      52     52213                        Credit unions   \n",
       "17  United States      52     52221                  Credit card issuing   \n",
       "19  United States      52     52222                      Sales financing   \n",
       "\n",
       "    YEAR  FIRM  ESTAB     RCPTOT     PAYANN   PAYQTR1      EMP  RCPTOT_IMP  \\\n",
       "3   2017    12     57  116892000    2268091    534358    19189           0   \n",
       "7   2017  5009  92063  465245474  130408773  41992915  1606404           0   \n",
       "12  2017  5320  19312   65100059   15525364   4102315   290249           0   \n",
       "17  2017    67    658  128445385    5589550   1881103    67681           0   \n",
       "19  2017  2376   4194  114879189    8869979   2783756    94656           0   \n",
       "\n",
       "    PAYANN_IMP  EMP_IMP  AVG SALARY(PAYANN/EMP)  layer matching  \n",
       "3            0        0                  118.20      5     5211  \n",
       "7            0        0                   81.18      5     5221  \n",
       "12           0        0                   53.49      5     5221  \n",
       "17           0        0                   82.59      5     5222  \n",
       "19           0        0                   93.71      5     5222  "
      ]
     },
     "execution_count": 24,
     "metadata": {},
     "output_type": "execute_result"
    }
   ],
   "source": [
    "df_5.head()"
   ]
  },
  {
   "cell_type": "code",
   "execution_count": 25,
   "metadata": {},
   "outputs": [
    {
     "data": {
      "text/plain": [
       "array(['United States', 'Alabama', 'Alaska', 'Arizona', 'Arkansas',\n",
       "       'California', 'Colorado', 'Connecticut', 'Delaware',\n",
       "       'District Of Columbia', 'Florida', 'Georgia', 'Hawaii', 'Idaho',\n",
       "       'Illinois', 'Indiana', 'Iowa', 'Kansas', 'Kentucky', 'Louisiana',\n",
       "       'Maine', 'Maryland', 'Massachusetts', 'Michigan', 'Minnesota',\n",
       "       'Mississippi', 'Missouri', 'Montana', 'Nebraska', 'Nevada',\n",
       "       'New Hampshire', 'New Jersey', 'New Mexico', 'New York',\n",
       "       'North Carolina', 'North Dakota', 'Ohio', 'Oklahoma', 'Oregon',\n",
       "       'Pennsylvania', 'Rhode Island', 'South Carolina', 'South Dakota',\n",
       "       'Tennessee', 'Texas', 'Utah', 'Vermont', 'Virginia', 'Washington',\n",
       "       'West Virginia', 'Wisconsin', 'Wyoming'], dtype=object)"
      ]
     },
     "execution_count": 25,
     "metadata": {},
     "output_type": "execute_result"
    }
   ],
   "source": [
    "df_5.GEO_TTL.unique()"
   ]
  },
  {
   "cell_type": "code",
   "execution_count": 26,
   "metadata": {
    "scrolled": false
   },
   "outputs": [],
   "source": [
    "layer5 = df_5.groupby('matching')['EMP'].sum()"
   ]
  },
  {
   "cell_type": "code",
   "execution_count": 27,
   "metadata": {
    "scrolled": false
   },
   "outputs": [
    {
     "data": {
      "text/html": [
       "<div>\n",
       "<style scoped>\n",
       "    .dataframe tbody tr th:only-of-type {\n",
       "        vertical-align: middle;\n",
       "    }\n",
       "\n",
       "    .dataframe tbody tr th {\n",
       "        vertical-align: top;\n",
       "    }\n",
       "\n",
       "    .dataframe thead th {\n",
       "        text-align: right;\n",
       "    }\n",
       "</style>\n",
       "<table border=\"1\" class=\"dataframe\">\n",
       "  <thead>\n",
       "    <tr style=\"text-align: right;\">\n",
       "      <th></th>\n",
       "      <th>NAICS2017</th>\n",
       "      <th>EMP</th>\n",
       "    </tr>\n",
       "  </thead>\n",
       "  <tbody>\n",
       "    <tr>\n",
       "      <th>0</th>\n",
       "      <td>5211</td>\n",
       "      <td>0</td>\n",
       "    </tr>\n",
       "    <tr>\n",
       "      <th>1</th>\n",
       "      <td>5221</td>\n",
       "      <td>118431</td>\n",
       "    </tr>\n",
       "    <tr>\n",
       "      <th>2</th>\n",
       "      <td>5222</td>\n",
       "      <td>202067</td>\n",
       "    </tr>\n",
       "    <tr>\n",
       "      <th>3</th>\n",
       "      <td>5223</td>\n",
       "      <td>-7784</td>\n",
       "    </tr>\n",
       "    <tr>\n",
       "      <th>4</th>\n",
       "      <td>5231</td>\n",
       "      <td>14200</td>\n",
       "    </tr>\n",
       "  </tbody>\n",
       "</table>\n",
       "</div>"
      ],
      "text/plain": [
       "  NAICS2017     EMP\n",
       "0      5211       0\n",
       "1      5221  118431\n",
       "2      5222  202067\n",
       "3      5223   -7784\n",
       "4      5231   14200"
      ]
     },
     "execution_count": 27,
     "metadata": {},
     "output_type": "execute_result"
    }
   ],
   "source": [
    "df_datableed = (layer4-layer5).to_frame().reset_index()\n",
    "df_datableed.head()"
   ]
  },
  {
   "cell_type": "code",
   "execution_count": 28,
   "metadata": {
    "scrolled": false
   },
   "outputs": [
    {
     "name": "stderr",
     "output_type": "stream",
     "text": [
      "C:\\Users\\tpanf_fex23s3\\anaconda3\\lib\\site-packages\\seaborn\\categorical.py:3704: UserWarning: The `factorplot` function has been renamed to `catplot`. The original name will be removed in a future release. Please update your code. Note that the default `kind` in `factorplot` (`'point'`) has changed `'strip'` in `catplot`.\n",
      "  warnings.warn(msg)\n"
     ]
    },
    {
     "data": {
      "text/plain": [
       "Text(0.5, 0.98, 'Employee Data Lost from Level 4 Granularity to Level 5 Granularity')"
      ]
     },
     "execution_count": 28,
     "metadata": {},
     "output_type": "execute_result"
    },
    {
     "data": {
      "image/png": "[encoded data removed]",
      "text/plain": [
       "<Figure size 900x360 with 1 Axes>"
      ]
     },
     "metadata": {
      "needs_background": "light"
     },
     "output_type": "display_data"
    }
   ],
   "source": [
    "g = sns.factorplot(y='EMP', data=df_datableed, x='NAICS2017', aspect=2.5, kind='bar')\n",
    "#g.set_xticklabels(['1','2','3','4','5','6','7','8','9'])\n",
    "g.set_xlabels('Level 4 Granularity Industry Code')\n",
    "g.set_ylabels('Employee Data Lost')\n",
    "g.fig.suptitle('Employee Data Lost from Level 4 Granularity to Level 5 Granularity',fontsize=20)"
   ]
  },
  {
   "cell_type": "code",
   "execution_count": 29,
   "metadata": {},
   "outputs": [],
   "source": [
    "totalloss = layer4-layer5"
   ]
  },
  {
   "cell_type": "code",
   "execution_count": 30,
   "metadata": {},
   "outputs": [
    {
     "data": {
      "text/plain": [
       "618089"
      ]
     },
     "execution_count": 30,
     "metadata": {},
     "output_type": "execute_result"
    }
   ],
   "source": [
    "#This number equals layer4 df.EMP.sum() - layer5 df.EMP.sum() which means my operations above successfully calculated the data bleed\n",
    "totalloss.sum()"
   ]
  },
  {
   "cell_type": "markdown",
   "metadata": {},
   "source": [
    "# #3 Mulitvariable Regression to Predict Payroll"
   ]
  },
  {
   "cell_type": "code",
   "execution_count": 31,
   "metadata": {},
   "outputs": [
    {
     "name": "stderr",
     "output_type": "stream",
     "text": [
      "<ipython-input-31-3ee096678b42>:2: SettingWithCopyWarning: \n",
      "A value is trying to be set on a copy of a slice from a DataFrame.\n",
      "Try using .loc[row_indexer,col_indexer] = value instead\n",
      "\n",
      "See the caveats in the documentation: https://pandas.pydata.org/pandas-docs/stable/user_guide/indexing.html#returning-a-view-versus-a-copy\n",
      "  df_layer6['PAYANN'] = df_layer6.PAYANN *1000\n"
     ]
    },
    {
     "data": {
      "text/html": [
       "<div>\n",
       "<style scoped>\n",
       "    .dataframe tbody tr th:only-of-type {\n",
       "        vertical-align: middle;\n",
       "    }\n",
       "\n",
       "    .dataframe tbody tr th {\n",
       "        vertical-align: top;\n",
       "    }\n",
       "\n",
       "    .dataframe thead th {\n",
       "        text-align: right;\n",
       "    }\n",
       "</style>\n",
       "<table border=\"1\" class=\"dataframe\">\n",
       "  <thead>\n",
       "    <tr style=\"text-align: right;\">\n",
       "      <th></th>\n",
       "      <th>GEO_TTL</th>\n",
       "      <th>SECTOR</th>\n",
       "      <th>NAICS2017</th>\n",
       "      <th>NAICS2017_TTL</th>\n",
       "      <th>YEAR</th>\n",
       "      <th>FIRM</th>\n",
       "      <th>ESTAB</th>\n",
       "      <th>RCPTOT</th>\n",
       "      <th>PAYANN</th>\n",
       "      <th>PAYQTR1</th>\n",
       "      <th>EMP</th>\n",
       "      <th>RCPTOT_IMP</th>\n",
       "      <th>PAYANN_IMP</th>\n",
       "      <th>EMP_IMP</th>\n",
       "      <th>AVG SALARY(PAYANN/EMP)</th>\n",
       "    </tr>\n",
       "  </thead>\n",
       "  <tbody>\n",
       "    <tr>\n",
       "      <th>77</th>\n",
       "      <td>Alabama</td>\n",
       "      <td>52</td>\n",
       "      <td>521110</td>\n",
       "      <td>Monetary authorities - central bank</td>\n",
       "      <td>2017</td>\n",
       "      <td>1</td>\n",
       "      <td>1</td>\n",
       "      <td>0</td>\n",
       "      <td>2078000</td>\n",
       "      <td>597</td>\n",
       "      <td>19</td>\n",
       "      <td>0</td>\n",
       "      <td>0</td>\n",
       "      <td>0</td>\n",
       "      <td>109.37</td>\n",
       "    </tr>\n",
       "    <tr>\n",
       "      <th>81</th>\n",
       "      <td>Alabama</td>\n",
       "      <td>52</td>\n",
       "      <td>522110</td>\n",
       "      <td>Commercial banking</td>\n",
       "      <td>2017</td>\n",
       "      <td>171</td>\n",
       "      <td>1649</td>\n",
       "      <td>0</td>\n",
       "      <td>1640235000</td>\n",
       "      <td>447376</td>\n",
       "      <td>27125</td>\n",
       "      <td>0</td>\n",
       "      <td>0</td>\n",
       "      <td>0</td>\n",
       "      <td>60.47</td>\n",
       "    </tr>\n",
       "    <tr>\n",
       "      <th>84</th>\n",
       "      <td>Alabama</td>\n",
       "      <td>52</td>\n",
       "      <td>522120</td>\n",
       "      <td>Savings institutions</td>\n",
       "      <td>2017</td>\n",
       "      <td>6</td>\n",
       "      <td>13</td>\n",
       "      <td>0</td>\n",
       "      <td>9043000</td>\n",
       "      <td>2128</td>\n",
       "      <td>168</td>\n",
       "      <td>0</td>\n",
       "      <td>0</td>\n",
       "      <td>0</td>\n",
       "      <td>53.83</td>\n",
       "    </tr>\n",
       "    <tr>\n",
       "      <th>86</th>\n",
       "      <td>Alabama</td>\n",
       "      <td>52</td>\n",
       "      <td>522130</td>\n",
       "      <td>Credit unions</td>\n",
       "      <td>2017</td>\n",
       "      <td>123</td>\n",
       "      <td>426</td>\n",
       "      <td>1086519</td>\n",
       "      <td>249407000</td>\n",
       "      <td>61694</td>\n",
       "      <td>5348</td>\n",
       "      <td>0</td>\n",
       "      <td>0</td>\n",
       "      <td>0</td>\n",
       "      <td>46.64</td>\n",
       "    </tr>\n",
       "    <tr>\n",
       "      <th>91</th>\n",
       "      <td>Alabama</td>\n",
       "      <td>52</td>\n",
       "      <td>522220</td>\n",
       "      <td>Sales financing</td>\n",
       "      <td>2017</td>\n",
       "      <td>42</td>\n",
       "      <td>50</td>\n",
       "      <td>161844</td>\n",
       "      <td>21801000</td>\n",
       "      <td>6381</td>\n",
       "      <td>299</td>\n",
       "      <td>0</td>\n",
       "      <td>0</td>\n",
       "      <td>0</td>\n",
       "      <td>72.91</td>\n",
       "    </tr>\n",
       "  </tbody>\n",
       "</table>\n",
       "</div>"
      ],
      "text/plain": [
       "    GEO_TTL  SECTOR  NAICS2017                        NAICS2017_TTL  YEAR  \\\n",
       "77  Alabama      52     521110  Monetary authorities - central bank  2017   \n",
       "81  Alabama      52     522110                   Commercial banking  2017   \n",
       "84  Alabama      52     522120                 Savings institutions  2017   \n",
       "86  Alabama      52     522130                        Credit unions  2017   \n",
       "91  Alabama      52     522220                      Sales financing  2017   \n",
       "\n",
       "    FIRM  ESTAB   RCPTOT      PAYANN  PAYQTR1    EMP  RCPTOT_IMP  PAYANN_IMP  \\\n",
       "77     1      1        0     2078000      597     19           0           0   \n",
       "81   171   1649        0  1640235000   447376  27125           0           0   \n",
       "84     6     13        0     9043000     2128    168           0           0   \n",
       "86   123    426  1086519   249407000    61694   5348           0           0   \n",
       "91    42     50   161844    21801000     6381    299           0           0   \n",
       "\n",
       "    EMP_IMP  AVG SALARY(PAYANN/EMP)  \n",
       "77        0                  109.37  \n",
       "81        0                   60.47  \n",
       "84        0                   53.83  \n",
       "86        0                   46.64  \n",
       "91        0                   72.91  "
      ]
     },
     "execution_count": 31,
     "metadata": {},
     "output_type": "execute_result"
    }
   ],
   "source": [
    "df_layer6 = df_layer6[df_layer6.GEO_TTL != 'United States']\n",
    "df_layer6['PAYANN'] = df_layer6.PAYANN *1000\n",
    "df_layer6.head()"
   ]
  },
  {
   "cell_type": "code",
   "execution_count": 32,
   "metadata": {},
   "outputs": [],
   "source": [
    "%matplotlib inline\n",
    "import matplotlib.pyplot as plt\n",
    "import numpy as np"
   ]
  },
  {
   "cell_type": "code",
   "execution_count": 33,
   "metadata": {},
   "outputs": [],
   "source": [
    "df_reg = df_layer6.drop(columns=['GEO_TTL','NAICS2017_TTL','SECTOR','NAICS2017','YEAR','RCPTOT_IMP','PAYANN_IMP','EMP_IMP','AVG SALARY(PAYANN/EMP)','PAYQTR1'])"
   ]
  },
  {
   "cell_type": "code",
   "execution_count": 34,
   "metadata": {},
   "outputs": [],
   "source": [
    "#df_reg['EmpPerFirm'] = df_reg.EMP/df_reg.FIRM"
   ]
  },
  {
   "cell_type": "code",
   "execution_count": 35,
   "metadata": {
    "scrolled": true
   },
   "outputs": [
    {
     "data": {
      "text/html": [
       "<div>\n",
       "<style scoped>\n",
       "    .dataframe tbody tr th:only-of-type {\n",
       "        vertical-align: middle;\n",
       "    }\n",
       "\n",
       "    .dataframe tbody tr th {\n",
       "        vertical-align: top;\n",
       "    }\n",
       "\n",
       "    .dataframe thead th {\n",
       "        text-align: right;\n",
       "    }\n",
       "</style>\n",
       "<table border=\"1\" class=\"dataframe\">\n",
       "  <thead>\n",
       "    <tr style=\"text-align: right;\">\n",
       "      <th></th>\n",
       "      <th>FIRM</th>\n",
       "      <th>ESTAB</th>\n",
       "      <th>RCPTOT</th>\n",
       "      <th>PAYANN</th>\n",
       "      <th>EMP</th>\n",
       "    </tr>\n",
       "  </thead>\n",
       "  <tbody>\n",
       "    <tr>\n",
       "      <th>77</th>\n",
       "      <td>1</td>\n",
       "      <td>1</td>\n",
       "      <td>0</td>\n",
       "      <td>2078000</td>\n",
       "      <td>19</td>\n",
       "    </tr>\n",
       "    <tr>\n",
       "      <th>81</th>\n",
       "      <td>171</td>\n",
       "      <td>1649</td>\n",
       "      <td>0</td>\n",
       "      <td>1640235000</td>\n",
       "      <td>27125</td>\n",
       "    </tr>\n",
       "    <tr>\n",
       "      <th>84</th>\n",
       "      <td>6</td>\n",
       "      <td>13</td>\n",
       "      <td>0</td>\n",
       "      <td>9043000</td>\n",
       "      <td>168</td>\n",
       "    </tr>\n",
       "    <tr>\n",
       "      <th>86</th>\n",
       "      <td>123</td>\n",
       "      <td>426</td>\n",
       "      <td>1086519</td>\n",
       "      <td>249407000</td>\n",
       "      <td>5348</td>\n",
       "    </tr>\n",
       "    <tr>\n",
       "      <th>91</th>\n",
       "      <td>42</td>\n",
       "      <td>50</td>\n",
       "      <td>161844</td>\n",
       "      <td>21801000</td>\n",
       "      <td>299</td>\n",
       "    </tr>\n",
       "  </tbody>\n",
       "</table>\n",
       "</div>"
      ],
      "text/plain": [
       "    FIRM  ESTAB   RCPTOT      PAYANN    EMP\n",
       "77     1      1        0     2078000     19\n",
       "81   171   1649        0  1640235000  27125\n",
       "84     6     13        0     9043000    168\n",
       "86   123    426  1086519   249407000   5348\n",
       "91    42     50   161844    21801000    299"
      ]
     },
     "execution_count": 35,
     "metadata": {},
     "output_type": "execute_result"
    }
   ],
   "source": [
    "df_reg.head()"
   ]
  },
  {
   "cell_type": "code",
   "execution_count": 36,
   "metadata": {},
   "outputs": [],
   "source": [
    "df_reg.drop(columns=['FIRM','ESTAB'],inplace=True)"
   ]
  },
  {
   "cell_type": "code",
   "execution_count": 37,
   "metadata": {},
   "outputs": [
    {
     "data": {
      "text/html": [
       "<div>\n",
       "<style scoped>\n",
       "    .dataframe tbody tr th:only-of-type {\n",
       "        vertical-align: middle;\n",
       "    }\n",
       "\n",
       "    .dataframe tbody tr th {\n",
       "        vertical-align: top;\n",
       "    }\n",
       "\n",
       "    .dataframe thead th {\n",
       "        text-align: right;\n",
       "    }\n",
       "</style>\n",
       "<table border=\"1\" class=\"dataframe\">\n",
       "  <thead>\n",
       "    <tr style=\"text-align: right;\">\n",
       "      <th></th>\n",
       "      <th>RCPTOT</th>\n",
       "      <th>PAYANN</th>\n",
       "      <th>EMP</th>\n",
       "    </tr>\n",
       "  </thead>\n",
       "  <tbody>\n",
       "    <tr>\n",
       "      <th>RCPTOT</th>\n",
       "      <td>1.000000</td>\n",
       "      <td>0.615019</td>\n",
       "      <td>0.296105</td>\n",
       "    </tr>\n",
       "    <tr>\n",
       "      <th>PAYANN</th>\n",
       "      <td>0.615019</td>\n",
       "      <td>1.000000</td>\n",
       "      <td>0.809206</td>\n",
       "    </tr>\n",
       "    <tr>\n",
       "      <th>EMP</th>\n",
       "      <td>0.296105</td>\n",
       "      <td>0.809206</td>\n",
       "      <td>1.000000</td>\n",
       "    </tr>\n",
       "  </tbody>\n",
       "</table>\n",
       "</div>"
      ],
      "text/plain": [
       "          RCPTOT    PAYANN       EMP\n",
       "RCPTOT  1.000000  0.615019  0.296105\n",
       "PAYANN  0.615019  1.000000  0.809206\n",
       "EMP     0.296105  0.809206  1.000000"
      ]
     },
     "execution_count": 37,
     "metadata": {},
     "output_type": "execute_result"
    }
   ],
   "source": [
    "df_reg.corr()"
   ]
  },
  {
   "cell_type": "code",
   "execution_count": 38,
   "metadata": {},
   "outputs": [],
   "source": [
    "from sklearn.model_selection import train_test_split\n",
    "y = df_reg.pop('PAYANN')\n",
    "X = df_reg"
   ]
  },
  {
   "cell_type": "code",
   "execution_count": 39,
   "metadata": {},
   "outputs": [
    {
     "data": {
      "text/html": [
       "<div>\n",
       "<style scoped>\n",
       "    .dataframe tbody tr th:only-of-type {\n",
       "        vertical-align: middle;\n",
       "    }\n",
       "\n",
       "    .dataframe tbody tr th {\n",
       "        vertical-align: top;\n",
       "    }\n",
       "\n",
       "    .dataframe thead th {\n",
       "        text-align: right;\n",
       "    }\n",
       "</style>\n",
       "<table border=\"1\" class=\"dataframe\">\n",
       "  <thead>\n",
       "    <tr style=\"text-align: right;\">\n",
       "      <th></th>\n",
       "      <th>RCPTOT</th>\n",
       "      <th>EMP</th>\n",
       "    </tr>\n",
       "  </thead>\n",
       "  <tbody>\n",
       "    <tr>\n",
       "      <th>77</th>\n",
       "      <td>0</td>\n",
       "      <td>19</td>\n",
       "    </tr>\n",
       "    <tr>\n",
       "      <th>81</th>\n",
       "      <td>0</td>\n",
       "      <td>27125</td>\n",
       "    </tr>\n",
       "    <tr>\n",
       "      <th>84</th>\n",
       "      <td>0</td>\n",
       "      <td>168</td>\n",
       "    </tr>\n",
       "    <tr>\n",
       "      <th>86</th>\n",
       "      <td>1086519</td>\n",
       "      <td>5348</td>\n",
       "    </tr>\n",
       "    <tr>\n",
       "      <th>91</th>\n",
       "      <td>161844</td>\n",
       "      <td>299</td>\n",
       "    </tr>\n",
       "  </tbody>\n",
       "</table>\n",
       "</div>"
      ],
      "text/plain": [
       "     RCPTOT    EMP\n",
       "77        0     19\n",
       "81        0  27125\n",
       "84        0    168\n",
       "86  1086519   5348\n",
       "91   161844    299"
      ]
     },
     "execution_count": 39,
     "metadata": {},
     "output_type": "execute_result"
    }
   ],
   "source": [
    "X.head()"
   ]
  },
  {
   "cell_type": "code",
   "execution_count": 40,
   "metadata": {},
   "outputs": [
    {
     "data": {
      "text/plain": [
       "77       2078000\n",
       "81    1640235000\n",
       "84       9043000\n",
       "86     249407000\n",
       "91      21801000\n",
       "Name: PAYANN, dtype: int64"
      ]
     },
     "execution_count": 40,
     "metadata": {},
     "output_type": "execute_result"
    }
   ],
   "source": [
    "y.head()"
   ]
  },
  {
   "cell_type": "code",
   "execution_count": 41,
   "metadata": {},
   "outputs": [],
   "source": [
    "X_train, X_test, y_train, y_test = train_test_split(X, y, random_state=42)"
   ]
  },
  {
   "cell_type": "code",
   "execution_count": 42,
   "metadata": {},
   "outputs": [],
   "source": [
    "from sklearn.linear_model import LinearRegression\n",
    "model = LinearRegression()"
   ]
  },
  {
   "cell_type": "code",
   "execution_count": 43,
   "metadata": {},
   "outputs": [
    {
     "data": {
      "text/plain": [
       "LinearRegression()"
      ]
     },
     "execution_count": 43,
     "metadata": {},
     "output_type": "execute_result"
    }
   ],
   "source": [
    "model.fit(X_train, y_train)"
   ]
  },
  {
   "cell_type": "code",
   "execution_count": 44,
   "metadata": {},
   "outputs": [
    {
     "data": {
      "text/plain": [
       "0.7860599479677861"
      ]
     },
     "execution_count": 44,
     "metadata": {},
     "output_type": "execute_result"
    }
   ],
   "source": [
    "model.score(X_test, y_test)"
   ]
  },
  {
   "cell_type": "code",
   "execution_count": 45,
   "metadata": {},
   "outputs": [
    {
     "name": "stdout",
     "output_type": "stream",
     "text": [
      "                            OLS Regression Results                            \n",
      "==============================================================================\n",
      "Dep. Variable:                 PAYANN   R-squared:                       0.806\n",
      "Model:                            OLS   Adj. R-squared:                  0.806\n",
      "Method:                 Least Squares   F-statistic:                     1608.\n",
      "Date:                Wed, 07 Jul 2021   Prob (F-statistic):          3.46e-276\n",
      "Time:                        15:32:57   Log-Likelihood:                -16905.\n",
      "No. Observations:                 776   AIC:                         3.382e+04\n",
      "Df Residuals:                     773   BIC:                         3.383e+04\n",
      "Df Model:                           2                                         \n",
      "Covariance Type:            nonrobust                                         \n",
      "==============================================================================\n",
      "                 coef    std err          t      P>|t|      [0.025      0.975]\n",
      "------------------------------------------------------------------------------\n",
      "const      -1.206e+08   2.79e+07     -4.322      0.000   -1.75e+08   -6.58e+07\n",
      "RCPTOT       105.9462      5.767     18.372      0.000      94.626     117.266\n",
      "EMP          9.38e+04   1922.737     48.785      0.000       9e+04    9.76e+04\n",
      "==============================================================================\n",
      "Omnibus:                      981.283   Durbin-Watson:                   1.938\n",
      "Prob(Omnibus):                  0.000   Jarque-Bera (JB):           547629.229\n",
      "Skew:                           5.797   Prob(JB):                         0.00\n",
      "Kurtosis:                     132.625   Cond. No.                     5.12e+06\n",
      "==============================================================================\n",
      "\n",
      "Notes:\n",
      "[1] Standard Errors assume that the covariance matrix of the errors is correctly specified.\n",
      "[2] The condition number is large, 5.12e+06. This might indicate that there are\n",
      "strong multicollinearity or other numerical problems.\n"
     ]
    }
   ],
   "source": [
    "import pandas as pd\n",
    "import numpy as np\n",
    "from sklearn import datasets, linear_model\n",
    "from sklearn.linear_model import LinearRegression\n",
    "import statsmodels.api as sm\n",
    "from scipy import stats\n",
    "\n",
    "X2 = sm.add_constant(X_train)\n",
    "est = sm.OLS(y_train, X2)\n",
    "est2 = est.fit()\n",
    "print(est2.summary())\n"
   ]
  },
  {
   "cell_type": "code",
   "execution_count": 46,
   "metadata": {
    "scrolled": true
   },
   "outputs": [],
   "source": [
    "df_reg = df_layer6.drop(columns=['GEO_TTL','NAICS2017_TTL','SECTOR','NAICS2017','YEAR','RCPTOT_IMP','PAYANN_IMP','EMP_IMP','AVG SALARY(PAYANN/EMP)','PAYQTR1'])"
   ]
  },
  {
   "cell_type": "code",
   "execution_count": 47,
   "metadata": {},
   "outputs": [
    {
     "data": {
      "text/plain": [
       "Text(0.5, 1.0, 'Payroll Size and Number of Employees Relationship')"
      ]
     },
     "execution_count": 47,
     "metadata": {},
     "output_type": "execute_result"
    },
    {
     "data": {
      "image/png": "[encoded data removed]",
      "text/plain": [
       "<Figure size 432x288 with 1 Axes>"
      ]
     },
     "metadata": {
      "needs_background": "light"
     },
     "output_type": "display_data"
    }
   ],
   "source": [
    "# sns.set_style('ticks',{'xtick.color': 'w','ytick.color': 'w'})\n",
    "g = sns.regplot(x='EMP', y='PAYANN', data=df_reg)\n",
    "g.set_xlabel('Number of Employees')\n",
    "g.set_ylabel('Payroll in Dollars')\n",
    "g.set_title('Payroll Size and Number of Employees Relationship', fontsize=11)\n",
    "# g.set_xticklabels(color = 'w')\n",
    "# g.set_yticklabels(color = 'w')"
   ]
  },
  {
   "cell_type": "code",
   "execution_count": 48,
   "metadata": {},
   "outputs": [
    {
     "data": {
      "text/plain": [
       "<AxesSubplot:xlabel='RCPTOT', ylabel='PAYANN'>"
      ]
     },
     "execution_count": 48,
     "metadata": {},
     "output_type": "execute_result"
    },
    {
     "data": {
      "image/png": "[encoded data removed]",
      "text/plain": [
       "<Figure size 432x288 with 1 Axes>"
      ]
     },
     "metadata": {
      "needs_background": "light"
     },
     "output_type": "display_data"
    }
   ],
   "source": [
    "sns.regplot(x='RCPTOT', y='PAYANN', data=df_reg)"
   ]
  },
  {
   "cell_type": "code",
   "execution_count": null,
   "metadata": {},
   "outputs": [],
   "source": []
  }
 ],
 "metadata": {
  "kernelspec": {
   "display_name": "Python 3",
   "language": "python",
   "name": "python3"
  },
  "language_info": {
   "codemirror_mode": {
    "name": "ipython",
    "version": 3
   },
   "file_extension": ".py",
   "mimetype": "text/x-python",
   "name": "python",
   "nbconvert_exporter": "python",
   "pygments_lexer": "ipython3",
   "version": "3.8.5"
  }
 },
 "nbformat": 4,
 "nbformat_minor": 4
}
